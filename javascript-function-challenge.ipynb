{
 "cells": [
  {
   "cell_type": "code",
   "execution_count": 1,
   "id": "3ac35f39",
   "metadata": {},
   "outputs": [],
   "source": [
    "import pandas as pd\n",
    "import seaborn as sns\n",
    "import numpy as np\n",
    "from matplotlib import pyplot as plt"
   ]
  },
  {
   "cell_type": "code",
   "execution_count": 18,
   "id": "fa5036e3",
   "metadata": {},
   "outputs": [
    {
     "data": {
      "text/plain": [
       "720"
      ]
     },
     "execution_count": 18,
     "metadata": {},
     "output_type": "execute_result"
    }
   ],
   "source": [
    "#Create a function with a number as argument that returns the factorial of the number\n",
    "\n",
    "def factorial(num):\n",
    "    start = 1\n",
    "    for n in range(1, num+1):\n",
    "        start*=n\n",
    "    return start\n",
    "    \n",
    "factorial(6)"
   ]
  },
  {
   "cell_type": "code",
   "execution_count": 23,
   "id": "f3abbc8e",
   "metadata": {},
   "outputs": [
    {
     "ename": "TypeError",
     "evalue": "unsupported operand type(s) for -: 'str' and 'str'",
     "output_type": "error",
     "traceback": [
      "\u001b[0;31m---------------------------------------------------------------------------\u001b[0m",
      "\u001b[0;31mTypeError\u001b[0m                                 Traceback (most recent call last)",
      "\u001b[0;32m/var/folders/th/55hfqgh912325b89wjzp3d_w0000gn/T/ipykernel_50785/4087559191.py\u001b[0m in \u001b[0;36m<module>\u001b[0;34m\u001b[0m\n\u001b[1;32m     23\u001b[0m \u001b[0;34m\u001b[0m\u001b[0m\n\u001b[1;32m     24\u001b[0m \u001b[0;34m\u001b[0m\u001b[0m\n\u001b[0;32m---> 25\u001b[0;31m \u001b[0mprint\u001b[0m\u001b[0;34m(\u001b[0m\u001b[0msubLength\u001b[0m\u001b[0;34m(\u001b[0m\u001b[0;34m'Robbo'\u001b[0m\u001b[0;34m,\u001b[0m \u001b[0;34m'o'\u001b[0m\u001b[0;34m)\u001b[0m\u001b[0;34m)\u001b[0m\u001b[0;34m\u001b[0m\u001b[0;34m\u001b[0m\u001b[0m\n\u001b[0m",
      "\u001b[0;32m/var/folders/th/55hfqgh912325b89wjzp3d_w0000gn/T/ipykernel_50785/4087559191.py\u001b[0m in \u001b[0;36msubLength\u001b[0;34m(str, letter)\u001b[0m\n\u001b[1;32m     14\u001b[0m             \u001b[0mlen\u001b[0m \u001b[0;34m=\u001b[0m \u001b[0mi\u001b[0m\u001b[0;34m\u001b[0m\u001b[0;34m\u001b[0m\u001b[0m\n\u001b[1;32m     15\u001b[0m         \u001b[0;32melse\u001b[0m\u001b[0;34m:\u001b[0m\u001b[0;34m\u001b[0m\u001b[0;34m\u001b[0m\u001b[0m\n\u001b[0;32m---> 16\u001b[0;31m             \u001b[0mlen\u001b[0m \u001b[0;34m=\u001b[0m \u001b[0mi\u001b[0m \u001b[0;34m-\u001b[0m \u001b[0mlen\u001b[0m \u001b[0;34m+\u001b[0m \u001b[0;36m1\u001b[0m\u001b[0;34m\u001b[0m\u001b[0;34m\u001b[0m\u001b[0m\n\u001b[0m\u001b[1;32m     17\u001b[0m     \u001b[0;32mreturn\u001b[0m \u001b[0mlen\u001b[0m\u001b[0;34m\u001b[0m\u001b[0;34m\u001b[0m\u001b[0m\n\u001b[1;32m     18\u001b[0m \u001b[0;34m\u001b[0m\u001b[0m\n",
      "\u001b[0;31mTypeError\u001b[0m: unsupported operand type(s) for -: 'str' and 'str'"
     ]
    }
   ],
   "source": [
    "#Write a function subLength() that takes 2 parameters, a string and a single character. \n",
    "#The function should search the string for the two occurrences of the character and return the length between them including the 2 characters. \n",
    "#If there are less than 2 or more than 2 occurrences of the character the function should return 0.\n",
    "\n",
    "def subLength(str, letter):\n",
    "    counter = 0\n",
    "    len = -1\n",
    "    for i in str:\n",
    "        if letter == i:\n",
    "            counter += 1\n",
    "        if counter < 2 & counter > 2:\n",
    "            return 0\n",
    "        if len == -1:\n",
    "            len = i\n",
    "        else:\n",
    "            len = i - len + 1\n",
    "    return len\n",
    "        \n",
    "\n",
    "        \n",
    "        \n",
    "            \n",
    "        \n",
    "        \n",
    "print(subLength('Robbo', 'o'))        "
   ]
  },
  {
   "cell_type": "code",
   "execution_count": null,
   "id": "7c393c8a",
   "metadata": {},
   "outputs": [],
   "source": [
    "// Write function below\n",
    "const groceries = list => {\n",
    "  let listString = ''\n",
    "\n",
    "  for (let i=0; i<list.length; i++) {\n",
    "    listString += list[i].item;\n",
    "    if (i < list.length - 2) {\n",
    "      listString += ', ';\n",
    "    } else if (i == list.length - 2){\n",
    "      listString += ' and ';\n",
    "    }\n",
    "  }\n",
    "  \n",
    "  return listString;\n",
    "}\n",
    "\n",
    "console.log(groceries( [{item: 'Carrots'}, {item: 'Hummus'}, {item: 'Pesto'}, {item: 'Rigatoni'}] ))"
   ]
  }
 ],
 "metadata": {
  "kernelspec": {
   "display_name": "Python 3 (ipykernel)",
   "language": "python",
   "name": "python3"
  },
  "language_info": {
   "codemirror_mode": {
    "name": "ipython",
    "version": 3
   },
   "file_extension": ".py",
   "mimetype": "text/x-python",
   "name": "python",
   "nbconvert_exporter": "python",
   "pygments_lexer": "ipython3",
   "version": "3.9.7"
  }
 },
 "nbformat": 4,
 "nbformat_minor": 5
}
